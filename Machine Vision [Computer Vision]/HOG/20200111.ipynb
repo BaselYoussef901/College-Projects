{
 "cells": [
  {
   "cell_type": "markdown",
   "metadata": {},
   "source": [
    "# Histogram of Oriented Gradients `[HOG]`\n",
    "Simplifies representation of images containing only crucial information [corners].\n",
    "\n",
    "#### _Steps_:\n",
    "1. Image Preprocessing\n",
    "2. Buid Histogram\n",
    "3. Extract Feature\n",
    "4. Normalization\n",
    "5. SVM Model\n",
    "6. Sample showing `HOG` structure\n",
    "7. Program Model on MNIST Dataset\n"
   ]
  },
  {
   "cell_type": "markdown",
   "metadata": {},
   "source": [
    "> ## Depenedencies"
   ]
  },
  {
   "cell_type": "code",
   "execution_count": 2,
   "metadata": {},
   "outputs": [],
   "source": [
    "import cv2\n",
    "import tensorflow as tf\n",
    "import numpy as np\n",
    "from matplotlib import pyplot as plt\n",
    "from sklearn.svm import SVC\n",
    "from sklearn.model_selection import train_test_split\n",
    "from sklearn import svm\n",
    "from sklearn.metrics import accuracy_score"
   ]
  },
  {
   "cell_type": "markdown",
   "metadata": {},
   "source": [
    "> ## Static & Input Section"
   ]
  },
  {
   "cell_type": "code",
   "execution_count": 3,
   "metadata": {},
   "outputs": [],
   "source": [
    "BLOCK_SIZE = 16\n",
    "BINS = 9    # Feature Vector of size [BINS]\n",
    "STEPS = BLOCK_SIZE // 2\n",
    "mnist_dataset = tf.keras.datasets.mnist\n",
    "(X_train, y_train), (X_test, y_test) = mnist_dataset.load_data()"
   ]
  },
  {
   "cell_type": "code",
   "execution_count": 4,
   "metadata": {},
   "outputs": [
    {
     "data": {
      "image/png": "[encoded data removed]",
      "text/plain": [
       "<Figure size 2000x200 with 10 Axes>"
      ]
     },
     "metadata": {},
     "output_type": "display_data"
    }
   ],
   "source": [
    "unique, counts = np.unique(y_train, return_counts=True)\n",
    "digit_counts = dict(zip(unique, counts))\n",
    "fig, axs = plt.subplots(1, 10, figsize=(20, 2))\n",
    "for digit in unique:\n",
    "    index = np.where(y_train == digit)[0][0]\n",
    "    axs[digit].imshow(X_train[index], cmap='gray')\n",
    "    axs[digit].title.set_text(f'{digit} ({digit_counts[digit]})')\n",
    "    axs[digit].axis('off')\n",
    "plt.show()"
   ]
  },
  {
   "cell_type": "code",
   "execution_count": 5,
   "metadata": {},
   "outputs": [],
   "source": [
    "def plot_me(IMAGE, color='grey', axis='on'):\n",
    "    plt.imshow(IMAGE, cmap=color)\n",
    "    plt.axis(axis)\n",
    "    plt.show()\n",
    "    \n",
    "\n",
    "def create_map(BINS, START_INDEX, END_INDEX):\n",
    "    return {temp:0 for temp in range(START_INDEX, END_INDEX+1, END_INDEX//BINS)}\n",
    "\n",
    "# feature_vector = create_map(BINS=BINS, START_INDEX=0, END_INDEX=180)\n",
    "feature_vectors = []"
   ]
  },
  {
   "cell_type": "markdown",
   "metadata": {},
   "source": [
    "> ## STEP 1: Image Preprocessing"
   ]
  },
  {
   "cell_type": "markdown",
   "metadata": {},
   "source": [
    "### 1. Normalize Image"
   ]
  },
  {
   "cell_type": "code",
   "execution_count": 6,
   "metadata": {},
   "outputs": [],
   "source": [
    "def __imageNormalization__(IMAGE):\n",
    "    if len(IMAGE.shape) > 2 and IMAGE.shape[2] > 1:\n",
    "        IMAGE = cv2.cvtColor(IMAGE, cv2.COLOR_BGR2GRAY)\n",
    "    return IMAGE / 255.0"
   ]
  },
  {
   "cell_type": "markdown",
   "metadata": {},
   "source": [
    "### 2. Adjust Image Ratio"
   ]
  },
  {
   "cell_type": "code",
   "execution_count": 7,
   "metadata": {},
   "outputs": [],
   "source": [
    "def __optimiseImageRatio__(IMAGE, printable=False):\n",
    "    original_height, original_width = IMAGE.shape\n",
    "    aspect_ratio_width, aspect_ratio_height = original_width, original_height\n",
    "    if original_width > original_height and original_width % original_height != 0:\n",
    "        aspect_ratio_width = (int(original_width / original_height) + 1) * original_height\n",
    "    elif original_height > original_width and original_height % original_width != 0:\n",
    "        aspect_ratio_height = (int(original_height / original_width) + 1) * original_width\n",
    "    adjusted_image = cv2.resize(IMAGE, (aspect_ratio_width, aspect_ratio_height), interpolation=cv2.INTER_AREA)\n",
    "    if printable == True:\n",
    "        plt.figure(figsize=(3, 3))\n",
    "        plt.imshow(adjusted_image, cmap='grey')\n",
    "        plt.title(f'Adjusted Size: {adjusted_image.shape}')\n",
    "        plt.show()\n",
    "    return adjusted_image"
   ]
  },
  {
   "cell_type": "markdown",
   "metadata": {},
   "source": [
    "### 3. Adjust BLOCKS of Image"
   ]
  },
  {
   "cell_type": "code",
   "execution_count": 8,
   "metadata": {},
   "outputs": [],
   "source": [
    "def __divisibleBLOCKSIZE__(IMAGE, STEPS, printable=False):\n",
    "    original_height, original_width = IMAGE.shape\n",
    "    aspect_ratio_Bw, aspect_ratio_Bh = original_width, original_height\n",
    "    if original_width % STEPS != 0:\n",
    "        aspect_ratio_Bw = (int(original_width / STEPS) + 1) * STEPS\n",
    "    if original_height % STEPS != 0:\n",
    "        aspect_ratio_Bh = (int(original_height / STEPS) + 1) * STEPS\n",
    "    padding = ((aspect_ratio_Bh - IMAGE.shape[0]) // 2,(aspect_ratio_Bw - IMAGE.shape[1]) // 2)\n",
    "    padding_image = np.pad(IMAGE, pad_width=padding, mode='constant', constant_values=0)\n",
    "    if printable == True:\n",
    "        plt.figure(figsize=(3, 3))\n",
    "        plt.imshow(padding_image, cmap='grey')\n",
    "        plt.title(f'Padded Size: {padding_image.shape}')\n",
    "        plt.show()\n",
    "    return padding_image"
   ]
  },
  {
   "cell_type": "markdown",
   "metadata": {},
   "source": [
    "> ## STEP 2: Build [HOG]"
   ]
  },
  {
   "cell_type": "markdown",
   "metadata": {},
   "source": [
    "### 1. Calculate Histogram of Gradients"
   ]
  },
  {
   "cell_type": "code",
   "execution_count": 9,
   "metadata": {},
   "outputs": [],
   "source": [
    "def __gradientImage__(IMAGE, printable=False):\n",
    "    gx = cv2.Sobel(IMAGE, cv2.CV_64F, 1, 0, ksize=1)\n",
    "    gy = cv2.Sobel(IMAGE, cv2.CV_64F, 0, 1, ksize=1)\n",
    "    mag = np.sqrt(gx**2 + gy**2)\n",
    "    angle = np.arctan2(gy, gx) * (180 / np.pi) % 180\n",
    "    # mag, angle = cv2.cartToPolar(gx, gy, angleInDegrees=True)\n",
    "\n",
    "    if printable == True:\n",
    "        plt.figure(figsize=(18, 6))\n",
    "\n",
    "        plt.subplot(1, 3, 1)\n",
    "        plt.imshow(gx, cmap='gray')\n",
    "        plt.title('Gradient X')\n",
    "\n",
    "        plt.subplot(1, 3, 2)\n",
    "        plt.imshow(gy, cmap='gray')\n",
    "        plt.title('Gradient Y')\n",
    "\n",
    "        plt.subplot(1, 3, 3)\n",
    "        plt.imshow(mag, cmap='gray')\n",
    "        plt.title('Gradient Magnitude')\n",
    "\n",
    "        plt.show()\n",
    "    return mag, angle"
   ]
  },
  {
   "cell_type": "markdown",
   "metadata": {},
   "source": [
    "### 2. Extract Image Blocks"
   ]
  },
  {
   "cell_type": "code",
   "execution_count": 10,
   "metadata": {},
   "outputs": [],
   "source": [
    "def __cutImageBlocks__(IMAGE, BLOCK_SIZE=16, printable=False):\n",
    "    subImages = []\n",
    "    subMagnitudes = []\n",
    "    subAngles = []\n",
    "    # change iterations from increasing step -> 1\n",
    "    # iterations_x = IMAGE.shape[0] // STEPS - 1\n",
    "    # iterations_y = IMAGE.shape[1] // STEPS - 1\n",
    "\n",
    "    iterations_x = IMAGE.shape[0]//2 +1\n",
    "    iterations_y = IMAGE.shape[1]//2 +1\n",
    "    \n",
    "    row_start_index, row_end_index = 0, BLOCK_SIZE\n",
    "    for row in range(0, iterations_x, STEPS):\n",
    "        col_start_index, col_end_index = 0, BLOCK_SIZE\n",
    "        for col in range(0, iterations_y, STEPS):\n",
    "            sub_image = IMAGE[row_start_index:row_end_index, col_start_index:col_end_index]\n",
    "            col_start_index += STEPS\n",
    "            col_end_index += STEPS\n",
    "\n",
    "            sub_mag, sub_ang = __gradientImage__(IMAGE=sub_image, printable=False)\n",
    "\n",
    "            subImages.append(sub_image)\n",
    "            subMagnitudes.append(sub_mag)\n",
    "            subAngles.append(sub_ang)\n",
    "\n",
    "            \n",
    "        row_start_index += STEPS\n",
    "        row_end_index += STEPS\n",
    "\n",
    "    if printable == True:\n",
    "        fig, axes = plt.subplots(1, len(subImages), figsize=(8,10))\n",
    "        for i in range(0, len(subImages)):\n",
    "            axes[i].imshow(subImages[i], cmap='inferno')\n",
    "            axes[i].axis('off')\n",
    "            axes[i].set_title(f'Sub-{i+1}')\n",
    "        plt.tight_layout()\n",
    "        plt.show()\n",
    "    return subImages, subMagnitudes, subAngles"
   ]
  },
  {
   "cell_type": "markdown",
   "metadata": {},
   "source": [
    "### 3. Apply Feature Descriptor"
   ]
  },
  {
   "cell_type": "code",
   "execution_count": 11,
   "metadata": {},
   "outputs": [],
   "source": [
    "def __findInterval__(angle):\n",
    "    if angle >= 0 and angle < 20:\n",
    "        return 0\n",
    "    if angle >= 20 and angle < 40:\n",
    "        return 20\n",
    "    if angle >= 40 and angle < 60:\n",
    "        return 40\n",
    "    if angle >= 60 and angle < 80:\n",
    "        return 60\n",
    "    if angle >= 80 and angle < 100:\n",
    "        return 80\n",
    "    if angle >= 100 and angle < 120:\n",
    "        return 100\n",
    "    if angle >= 120 and angle < 140:\n",
    "        return 120\n",
    "    if angle >= 140 and angle < 160:\n",
    "        return 140\n",
    "    if angle >= 160 and angle < 180:\n",
    "        return 160\n",
    "    \n",
    "def __getFeatures__(cell_matrix, magnitude_matrix, angle_matrix, temp_feature_vector, STEP=20):\n",
    "    for row_idx in range(len(angle_matrix)):\n",
    "        for col_idx in range(len(angle_matrix[0])):\n",
    "            current_interval_x = __findInterval__(angle_matrix[row_idx][col_idx])\n",
    "            current_interval_y = current_interval_x + STEP\n",
    "            current_interval_midpoint = (current_interval_x + current_interval_y) // 2\n",
    "\n",
    "            next_interval_x = current_interval_y\n",
    "            next_interval_y = next_interval_x + STEP\n",
    "            next_interval_midpoint = (next_interval_x + next_interval_y) // 2\n",
    "\n",
    "            PoF1 = abs(angle_matrix[row_idx][col_idx] - current_interval_midpoint) / STEP\n",
    "            PoF2 = abs(angle_matrix[row_idx][col_idx] - next_interval_midpoint) / STEP\n",
    "\n",
    "            VoP1 = PoF2 * magnitude_matrix[row_idx][col_idx]\n",
    "            VoP2 = PoF1 * magnitude_matrix[row_idx][col_idx]\n",
    "\n",
    "            if VoP1 > 1:\n",
    "                VoP2 = magnitude_matrix[row_idx][col_idx]\n",
    "                VoP1 = 0\n",
    "            elif VoP2 > 1:\n",
    "                VoP1 = magnitude_matrix[row_idx][col_idx]\n",
    "                VoP2 = 0\n",
    "            \n",
    "\n",
    "\n",
    "            temp_feature_vector[current_interval_midpoint] += VoP2\n",
    "            if next_interval_midpoint != 190:\n",
    "                temp_feature_vector[next_interval_midpoint] += VoP1\n",
    "\n",
    "    return temp_feature_vector\n",
    "                "
   ]
  },
  {
   "cell_type": "markdown",
   "metadata": {},
   "source": [
    "> ## STEP 3: HOG Feature Extractor"
   ]
  },
  {
   "cell_type": "code",
   "execution_count": 12,
   "metadata": {},
   "outputs": [],
   "source": [
    "def __HOGDescriptor__(cells, magnitudes, angles, printable=False):\n",
    "    image_feature_cells = []\n",
    "    for i in range(0, len(cells)):\n",
    "        temp = {  \n",
    "            10 : 0,\n",
    "            30 : 0,\n",
    "            50 : 0,\n",
    "            70 : 0,\n",
    "            90 : 0,\n",
    "            110: 0,\n",
    "            130: 0,\n",
    "            150: 0,\n",
    "            170: 0\n",
    "        }\n",
    "        image_feature_cells.append(__getFeatures__(cells[i], magnitudes[i], angles[i], temp, 180//BINS))\n",
    "    if printable == True:\n",
    "        for x in range(0, len(image_feature_cells)):\n",
    "            print(f\"\\tFeature_{x}\", image_feature_cells[x])\n",
    "    return image_feature_cells\n"
   ]
  },
  {
   "cell_type": "markdown",
   "metadata": {},
   "source": [
    "> ## STEP 4: Normalize Feature Vectors"
   ]
  },
  {
   "cell_type": "code",
   "execution_count": 13,
   "metadata": {},
   "outputs": [],
   "source": [
    "# def __HOGNormalization__(feature_block, printable=False):\n",
    "#     normalized_block_feature = []\n",
    "#     for feature in feature_block:\n",
    "#         feature_value = np.array(list(feature.values()))\n",
    "#         norm = np.linalg.norm(feature_value)\n",
    "#         if norm == 0:\n",
    "#             normalized_value = np.zeros_like(feature_value)\n",
    "#         else:\n",
    "#             normalized_value = feature_value / norm\n",
    "#         norm_feature = {key: value for key, value in zip(feature.keys(), normalized_value)}\n",
    "#         normalized_block_feature.append(norm_feature)   # 4x9\n",
    "    \n",
    "#     if printable == True:\n",
    "#         for x in range(0, len(normalized_block_feature)):\n",
    "#             print(f\"\\tN_Feature_{x}\", normalized_block_feature[x])\n",
    "#     return normalized_block_feature\n",
    "\n",
    "def __HOGNormalization__(feature_block, printable=False):\n",
    "    normalized_block_feature = []\n",
    "    for feature_idx in range(0, len(feature_block)):\n",
    "        total_sum = sum(feature_block[feature_idx].values())\n",
    "        if total_sum != 0:\n",
    "            normalized_block_feature.append([value / total_sum for value in feature_block[feature_idx].values()])\n",
    "        else:\n",
    "            normalized_block_feature.append([0] * len(feature_block[feature_idx]))\n",
    "    if printable == True:\n",
    "        for x in range(0, len(normalized_block_feature)):\n",
    "            print(f\"\\tN_Feature_{x}\", normalized_block_feature[x])\n",
    "    return normalized_block_feature"
   ]
  },
  {
   "cell_type": "markdown",
   "metadata": {},
   "source": [
    "## Sample Extraction"
   ]
  },
  {
   "cell_type": "markdown",
   "metadata": {},
   "source": [
    "> ## STEP 5: Sample "
   ]
  },
  {
   "cell_type": "code",
   "execution_count": 14,
   "metadata": {},
   "outputs": [
    {
     "data": {
      "text/plain": [
       "(28, 28)"
      ]
     },
     "execution_count": 14,
     "metadata": {},
     "output_type": "execute_result"
    }
   ],
   "source": [
    "# Load Sample Image\n",
    "sample = X_train[69]\n",
    "sample.shape"
   ]
  },
  {
   "cell_type": "code",
   "execution_count": 15,
   "metadata": {},
   "outputs": [
    {
     "data": {
      "image/png": "[encoded data removed]",
      "text/plain": [
       "<Figure size 300x300 with 1 Axes>"
      ]
     },
     "metadata": {},
     "output_type": "display_data"
    }
   ],
   "source": [
    "# Adjust Dimensions Ratio\n",
    "adjust_sample = __optimiseImageRatio__(sample, True)"
   ]
  },
  {
   "cell_type": "code",
   "execution_count": 16,
   "metadata": {},
   "outputs": [
    {
     "data": {
      "image/png": "[encoded data removed]",
      "text/plain": [
       "<Figure size 300x300 with 1 Axes>"
      ]
     },
     "metadata": {},
     "output_type": "display_data"
    }
   ],
   "source": [
    "# Adjust Block Padding\n",
    "pad_sample = __divisibleBLOCKSIZE__(adjust_sample, STEPS, True)"
   ]
  },
  {
   "cell_type": "code",
   "execution_count": 17,
   "metadata": {},
   "outputs": [
    {
     "data": {
      "image/png": "[encoded data removed]",
      "text/plain": [
       "<Figure size 1800x600 with 3 Axes>"
      ]
     },
     "metadata": {},
     "output_type": "display_data"
    }
   ],
   "source": [
    "# Grediants\n",
    "mag, ang = __gradientImage__(pad_sample, True)"
   ]
  },
  {
   "cell_type": "code",
   "execution_count": 18,
   "metadata": {},
   "outputs": [
    {
     "data": {
      "image/png": "[encoded data removed]",
      "text/plain": [
       "<Figure size 800x1000 with 9 Axes>"
      ]
     },
     "metadata": {},
     "output_type": "display_data"
    }
   ],
   "source": [
    "# Apply Sub-Blocks (16x16)\n",
    "block, m, a = __cutImageBlocks__(pad_sample, BLOCK_SIZE=BLOCK_SIZE, printable=True)"
   ]
  },
  {
   "cell_type": "code",
   "execution_count": 19,
   "metadata": {},
   "outputs": [
    {
     "data": {
      "text/plain": [
       "((9, 4, 8, 8), (9, 4, 8, 8), (9, 4, 8, 8))"
      ]
     },
     "execution_count": 19,
     "metadata": {},
     "output_type": "execute_result"
    }
   ],
   "source": [
    "# Apply 2nd Sub-Blocks (8x8) for each Block/Cell\n",
    "Image = []\n",
    "Magnitude = []\n",
    "Angle = []\n",
    "for sub_img_idx in range(0, len(block)):\n",
    "    subBlock, magnitude, angle = __cutImageBlocks__(block[sub_img_idx], BLOCK_SIZE=BLOCK_SIZE//2, printable=False)\n",
    "    Image.append(subBlock)\n",
    "    Magnitude.append(magnitude)\n",
    "    Angle.append(angle)\n",
    "\n",
    "Image = np.array(Image)\n",
    "Magnitude = np.array(Magnitude)\n",
    "Angle = np.array(Angle)\n",
    "(Image.shape, Magnitude.shape, Angle.shape)"
   ]
  },
  {
   "cell_type": "code",
   "execution_count": 20,
   "metadata": {},
   "outputs": [
    {
     "name": "stdout",
     "output_type": "stream",
     "text": [
      "BLOCK 1\n",
      "\tFeature_0 {10: 0.0, 30: 0.0, 50: 0, 70: 0, 90: 0, 110: 0, 130: 0, 150: 0, 170: 0}\n",
      "\tFeature_1 {10: 457.0, 30: 0.0, 50: 0, 70: 0, 90: 457.0, 110: 0, 130: 0, 150: 0, 170: 0}\n",
      "\tFeature_2 {10: 0.0, 30: 0.0, 50: 0, 70: 0, 90: 0, 110: 0, 130: 0, 150: 0, 170: 0}\n",
      "\tFeature_3 {10: 2666.526740031575, 30: 399.113151461884, 50: 1314.9569096846335, 70: 0, 90: 329.0644491340181, 110: 0, 130: 295.79429544390723, 150: 117.13667231059623, 170: 98.08591926009544}\n",
      "\n",
      "BLOCK 2\n",
      "\tFeature_0 {10: 457.0, 30: 0.0, 50: 0, 70: 0, 90: 457.0, 110: 0, 130: 0, 150: 0, 170: 0}\n",
      "\tFeature_1 {10: 504.0, 30: 0.0, 50: 0, 70: 0, 90: 1041.0, 110: 0, 130: 0, 150: 0, 170: 0}\n",
      "\tFeature_2 {10: 2666.526740031575, 30: 399.113151461884, 50: 1314.9569096846335, 70: 0, 90: 329.0644491340181, 110: 0, 130: 295.79429544390723, 150: 117.13667231059623, 170: 98.08591926009544}\n",
      "\tFeature_3 {10: 1988.5775074773385, 30: 0.0, 50: 304.5915792821957, 70: 521.4370461554659, 90: 1012.0246875958186, 110: 183.69812192834198, 130: 698.0890014769504, 150: 480.54308114932854, 170: 1080.2562794458056}\n",
      "\n",
      "BLOCK 3\n",
      "\tFeature_0 {10: 504.0, 30: 0.0, 50: 0, 70: 0, 90: 1041.0, 110: 0, 130: 0, 150: 0, 170: 0}\n",
      "\tFeature_1 {10: 0.0, 30: 0.0, 50: 0, 70: 0, 90: 0, 110: 0, 130: 0, 150: 0, 170: 0}\n",
      "\tFeature_2 {10: 1988.5775074773385, 30: 0.0, 50: 304.5915792821957, 70: 521.4370461554659, 90: 1012.0246875958186, 110: 183.69812192834198, 130: 698.0890014769504, 150: 480.54308114932854, 170: 1080.2562794458056}\n",
      "\tFeature_3 {10: 0.0, 30: 0.0, 50: 0, 70: 0, 90: 0, 110: 0, 130: 0, 150: 0, 170: 0}\n",
      "\n",
      "BLOCK 4\n",
      "\tFeature_0 {10: 0.0, 30: 0.0, 50: 0, 70: 0, 90: 0, 110: 0, 130: 0, 150: 0, 170: 0}\n",
      "\tFeature_1 {10: 2666.526740031575, 30: 399.113151461884, 50: 1314.9569096846335, 70: 0, 90: 329.0644491340181, 110: 0, 130: 295.79429544390723, 150: 117.13667231059623, 170: 98.08591926009544}\n",
      "\tFeature_2 {10: 0.0, 30: 0.0, 50: 0, 70: 0, 90: 0, 110: 0, 130: 0, 150: 0, 170: 0}\n",
      "\tFeature_3 {10: 3688.0557341073186, 30: 1206.0907492065444, 50: 320.41379495895615, 70: 0, 90: 254.0, 110: 0, 130: 976.7845899842422, 150: 556.7159513064075, 170: 640.2782199007547}\n",
      "\n",
      "BLOCK 5\n",
      "\tFeature_0 {10: 2666.526740031575, 30: 399.113151461884, 50: 1314.9569096846335, 70: 0, 90: 329.0644491340181, 110: 0, 130: 295.79429544390723, 150: 117.13667231059623, 170: 98.08591926009544}\n",
      "\tFeature_1 {10: 1988.5775074773385, 30: 0.0, 50: 304.5915792821957, 70: 521.4370461554659, 90: 1012.0246875958186, 110: 183.69812192834198, 130: 698.0890014769504, 150: 480.54308114932854, 170: 1080.2562794458056}\n",
      "\tFeature_2 {10: 3688.0557341073186, 30: 1206.0907492065444, 50: 320.41379495895615, 70: 0, 90: 254.0, 110: 0, 130: 976.7845899842422, 150: 556.7159513064075, 170: 640.2782199007547}\n",
      "\tFeature_3 {10: 3641.8208448333553, 30: 1563.5454762649113, 50: 325.79591774880265, 70: 502.9215784333812, 90: 908.0, 110: 0, 130: 2.8284271247461903, 150: 296.8164415931166, 170: 253.50345165302977}\n",
      "\n",
      "BLOCK 6\n",
      "\tFeature_0 {10: 1988.5775074773385, 30: 0.0, 50: 304.5915792821957, 70: 521.4370461554659, 90: 1012.0246875958186, 110: 183.69812192834198, 130: 698.0890014769504, 150: 480.54308114932854, 170: 1080.2562794458056}\n",
      "\tFeature_1 {10: 0.0, 30: 0.0, 50: 0, 70: 0, 90: 0, 110: 0, 130: 0, 150: 0, 170: 0}\n",
      "\tFeature_2 {10: 3641.8208448333553, 30: 1563.5454762649113, 50: 325.79591774880265, 70: 502.9215784333812, 90: 908.0, 110: 0, 130: 2.8284271247461903, 150: 296.8164415931166, 170: 253.50345165302977}\n",
      "\tFeature_3 {10: 0.0, 30: 0.0, 50: 0, 70: 0, 90: 0, 110: 0, 130: 0, 150: 0, 170: 0}\n",
      "\n",
      "BLOCK 7\n",
      "\tFeature_0 {10: 0.0, 30: 0.0, 50: 0, 70: 0, 90: 0, 110: 0, 130: 0, 150: 0, 170: 0}\n",
      "\tFeature_1 {10: 3688.0557341073186, 30: 1206.0907492065444, 50: 320.41379495895615, 70: 0, 90: 254.0, 110: 0, 130: 976.7845899842422, 150: 556.7159513064075, 170: 640.2782199007547}\n",
      "\tFeature_2 {10: 0.0, 30: 0.0, 50: 0, 70: 0, 90: 0, 110: 0, 130: 0, 150: 0, 170: 0}\n",
      "\tFeature_3 {10: 504.0, 30: 0.0, 50: 0, 70: 0, 90: 1066.6417547167357, 110: 263.10454196003536, 130: 1281.3089955097298, 150: 0, 170: 0}\n",
      "\n",
      "BLOCK 8\n",
      "\tFeature_0 {10: 3688.0557341073186, 30: 1206.0907492065444, 50: 320.41379495895615, 70: 0, 90: 254.0, 110: 0, 130: 976.7845899842422, 150: 556.7159513064075, 170: 640.2782199007547}\n",
      "\tFeature_1 {10: 3641.8208448333553, 30: 1563.5454762649113, 50: 325.79591774880265, 70: 502.9215784333812, 90: 908.0, 110: 0, 130: 2.8284271247461903, 150: 296.8164415931166, 170: 253.50345165302977}\n",
      "\tFeature_2 {10: 504.0, 30: 0.0, 50: 0, 70: 0, 90: 1066.6417547167357, 110: 263.10454196003536, 130: 1281.3089955097298, 150: 0, 170: 0}\n",
      "\tFeature_3 {10: 544.0, 30: 213.82469455140114, 50: 676.4317019255938, 70: 669.4005872482984, 90: 1330.8023549516806, 110: 0, 130: 0, 150: 0, 170: 0}\n",
      "\n",
      "BLOCK 9\n",
      "\tFeature_0 {10: 3641.8208448333553, 30: 1563.5454762649113, 50: 325.79591774880265, 70: 502.9215784333812, 90: 908.0, 110: 0, 130: 2.8284271247461903, 150: 296.8164415931166, 170: 253.50345165302977}\n",
      "\tFeature_1 {10: 0.0, 30: 0.0, 50: 0, 70: 0, 90: 0, 110: 0, 130: 0, 150: 0, 170: 0}\n",
      "\tFeature_2 {10: 544.0, 30: 213.82469455140114, 50: 676.4317019255938, 70: 669.4005872482984, 90: 1330.8023549516806, 110: 0, 130: 0, 150: 0, 170: 0}\n",
      "\tFeature_3 {10: 0.0, 30: 0.0, 50: 0, 70: 0, 90: 0, 110: 0, 130: 0, 150: 0, 170: 0}\n",
      "\n"
     ]
    }
   ],
   "source": [
    "# Extract HoG Features\n",
    "image_hog_feature = []\n",
    "for sub_img_idx in range(0, len(Image)):\n",
    "    print(f\"BLOCK {sub_img_idx + 1}\")\n",
    "    cell_feature = __HOGDescriptor__(Image[sub_img_idx], Magnitude[sub_img_idx], Angle[sub_img_idx], True)\n",
    "    print()\n",
    "    image_hog_feature.append(cell_feature)"
   ]
  },
  {
   "cell_type": "code",
   "execution_count": 21,
   "metadata": {},
   "outputs": [
    {
     "name": "stdout",
     "output_type": "stream",
     "text": [
      "Normalized BLOCK 1\n",
      "\tN_Feature_0 [0, 0, 0, 0, 0, 0, 0, 0, 0]\n",
      "\tN_Feature_1 [0.5, 0.0, 0.0, 0.0, 0.5, 0.0, 0.0, 0.0, 0.0]\n",
      "\tN_Feature_2 [0, 0, 0, 0, 0, 0, 0, 0, 0]\n",
      "\tN_Feature_3 [0.5107625235439225, 0.07644852660199677, 0.25187473257218795, 0.0, 0.06303097806035561, 0.0, 0.05665821329398618, 0.02243706070923901, 0.01878796521831187]\n",
      "\n",
      "Normalized BLOCK 2\n",
      "\tN_Feature_0 [0.5, 0.0, 0.0, 0.0, 0.5, 0.0, 0.0, 0.0, 0.0]\n",
      "\tN_Feature_1 [0.3262135922330097, 0.0, 0.0, 0.0, 0.6737864077669903, 0.0, 0.0, 0.0, 0.0]\n",
      "\tN_Feature_2 [0.5107625235439225, 0.07644852660199677, 0.25187473257218795, 0.0, 0.06303097806035561, 0.0, 0.05665821329398618, 0.02243706070923901, 0.01878796521831187]\n",
      "\tN_Feature_3 [0.31719709349465114, 0.0, 0.0485852642343432, 0.08317418599930276, 0.16142759748774047, 0.029301603853507396, 0.11135185902307372, 0.07665120824628875, 0.17231118766109246]\n",
      "\n",
      "Normalized BLOCK 3\n",
      "\tN_Feature_0 [0.3262135922330097, 0.0, 0.0, 0.0, 0.6737864077669903, 0.0, 0.0, 0.0, 0.0]\n",
      "\tN_Feature_1 [0, 0, 0, 0, 0, 0, 0, 0, 0]\n",
      "\tN_Feature_2 [0.31719709349465114, 0.0, 0.0485852642343432, 0.08317418599930276, 0.16142759748774047, 0.029301603853507396, 0.11135185902307372, 0.07665120824628875, 0.17231118766109246]\n",
      "\tN_Feature_3 [0, 0, 0, 0, 0, 0, 0, 0, 0]\n",
      "\n",
      "Normalized BLOCK 4\n",
      "\tN_Feature_0 [0, 0, 0, 0, 0, 0, 0, 0, 0]\n",
      "\tN_Feature_1 [0.5107625235439225, 0.07644852660199677, 0.25187473257218795, 0.0, 0.06303097806035561, 0.0, 0.05665821329398618, 0.02243706070923901, 0.01878796521831187]\n",
      "\tN_Feature_2 [0, 0, 0, 0, 0, 0, 0, 0, 0]\n",
      "\tN_Feature_3 [0.4825820622537933, 0.15781696454166982, 0.04192614241587209, 0.0, 0.0332358978957059, 0.0, 0.12781225550714656, 0.07284627761626196, 0.08378039976955044]\n",
      "\n",
      "Normalized BLOCK 5\n",
      "\tN_Feature_0 [0.5107625235439225, 0.07644852660199677, 0.25187473257218795, 0.0, 0.06303097806035561, 0.0, 0.05665821329398618, 0.02243706070923901, 0.01878796521831187]\n",
      "\tN_Feature_1 [0.31719709349465114, 0.0, 0.0485852642343432, 0.08317418599930276, 0.16142759748774047, 0.029301603853507396, 0.11135185902307372, 0.07665120824628875, 0.17231118766109246]\n",
      "\tN_Feature_2 [0.4825820622537933, 0.15781696454166982, 0.04192614241587209, 0.0, 0.0332358978957059, 0.0, 0.12781225550714656, 0.07284627761626196, 0.08378039976955044]\n",
      "\tN_Feature_3 [0.4858849970155204, 0.2086053437105223, 0.04346708837905212, 0.06709886621216424, 0.12114367951844718, 0.0, 0.0003773635122704135, 0.03960070030414363, 0.03382196134787974]\n",
      "\n",
      "Normalized BLOCK 6\n",
      "\tN_Feature_0 [0.31719709349465114, 0.0, 0.0485852642343432, 0.08317418599930276, 0.16142759748774047, 0.029301603853507396, 0.11135185902307372, 0.07665120824628875, 0.17231118766109246]\n",
      "\tN_Feature_1 [0, 0, 0, 0, 0, 0, 0, 0, 0]\n",
      "\tN_Feature_2 [0.4858849970155204, 0.2086053437105223, 0.04346708837905212, 0.06709886621216424, 0.12114367951844718, 0.0, 0.0003773635122704135, 0.03960070030414363, 0.03382196134787974]\n",
      "\tN_Feature_3 [0, 0, 0, 0, 0, 0, 0, 0, 0]\n",
      "\n",
      "Normalized BLOCK 7\n",
      "\tN_Feature_0 [0, 0, 0, 0, 0, 0, 0, 0, 0]\n",
      "\tN_Feature_1 [0.4825820622537933, 0.15781696454166982, 0.04192614241587209, 0.0, 0.0332358978957059, 0.0, 0.12781225550714656, 0.07284627761626196, 0.08378039976955044]\n",
      "\tN_Feature_2 [0, 0, 0, 0, 0, 0, 0, 0, 0]\n",
      "\tN_Feature_3 [0.16179488090121036, 0.0, 0.0, 0.0, 0.34241503108859583, 0.08446223815672903, 0.41132784985346477, 0.0, 0.0]\n",
      "\n",
      "Normalized BLOCK 8\n",
      "\tN_Feature_0 [0.4825820622537933, 0.15781696454166982, 0.04192614241587209, 0.0, 0.0332358978957059, 0.0, 0.12781225550714656, 0.07284627761626196, 0.08378039976955044]\n",
      "\tN_Feature_1 [0.4858849970155204, 0.2086053437105223, 0.04346708837905212, 0.06709886621216424, 0.12114367951844718, 0.0, 0.0003773635122704135, 0.03960070030414363, 0.03382196134787974]\n",
      "\tN_Feature_2 [0.16179488090121036, 0.0, 0.0, 0.0, 0.34241503108859583, 0.08446223815672903, 0.41132784985346477, 0.0, 0.0]\n",
      "\tN_Feature_3 [0.15839465439982767, 0.06225861874194467, 0.1969543486242494, 0.1949071225592572, 0.3874852556747211, 0.0, 0.0, 0.0, 0.0]\n",
      "\n",
      "Normalized BLOCK 9\n",
      "\tN_Feature_0 [0.4858849970155204, 0.2086053437105223, 0.04346708837905212, 0.06709886621216424, 0.12114367951844718, 0.0, 0.0003773635122704135, 0.03960070030414363, 0.03382196134787974]\n",
      "\tN_Feature_1 [0, 0, 0, 0, 0, 0, 0, 0, 0]\n",
      "\tN_Feature_2 [0.15839465439982767, 0.06225861874194467, 0.1969543486242494, 0.1949071225592572, 0.3874852556747211, 0.0, 0.0, 0.0, 0.0]\n",
      "\tN_Feature_3 [0, 0, 0, 0, 0, 0, 0, 0, 0]\n",
      "\n"
     ]
    }
   ],
   "source": [
    "# Apply Normalization\n",
    "image_hog_normalization_features = []\n",
    "for feature_img_idx in range(0, len(image_hog_feature)):\n",
    "    print(f\"Normalized BLOCK {feature_img_idx + 1}\")\n",
    "    cell_normalized_feature = __HOGNormalization__(image_hog_feature[feature_img_idx], True)\n",
    "    print()\n",
    "    image_hog_normalization_features.append(cell_feature)"
   ]
  },
  {
   "cell_type": "markdown",
   "metadata": {},
   "source": [
    "## Comparing DL-SVM HOG with Built-in HOG"
   ]
  },
  {
   "cell_type": "markdown",
   "metadata": {},
   "source": [
    "> ## STEP 6: Scratch HOG - Basel Youssef"
   ]
  },
  {
   "cell_type": "markdown",
   "metadata": {},
   "source": [
    "### 0. Functions"
   ]
  },
  {
   "cell_type": "code",
   "execution_count": 23,
   "metadata": {},
   "outputs": [],
   "source": [
    "def imageReshaper(X):\n",
    "    \"\"\"\n",
    "    Adjust Image Ratio\n",
    "    \"\"\"\n",
    "    X_reshape = []\n",
    "    for i in range(0, len(X)):\n",
    "        X_reshape.append(__optimiseImageRatio__(X[i], False))\n",
    "    return np.array(X_reshape)\n",
    "\n",
    "\n",
    "def imagePadder(X):\n",
    "    \"\"\"\n",
    "    Add padding to work on block [16x16] - Not to Overflow\n",
    "    \"\"\"\n",
    "    X_padd = []\n",
    "    for i in range(0, len(X)):\n",
    "        X_padd.append(__divisibleBLOCKSIZE__(X[i],STEPS=STEPS))\n",
    "    return np.array(X_padd)\n",
    "\n",
    "\n",
    "def imageSplitter(X):\n",
    "    \"\"\"\n",
    "    Do multiple split\n",
    "    1. First SubPlot: to get [9] Images each [16x16]\n",
    "    2. Second SubPlot: to get [9] Images each [16x16] and subPlots them to [4] subImages each [8x8]\n",
    "    \"\"\"\n",
    "    # 1st SubPlots\n",
    "    X_1st = []\n",
    "    for i in range(0, len(X)):\n",
    "        B, M, A = __cutImageBlocks__(X[i], BLOCK_SIZE, False)\n",
    "        X_1st.append(B)\n",
    "    # 2nd SubPlots\n",
    "    subImages, Megnitudes, Angles = [], [], []\n",
    "    for image in X_1st:\n",
    "        Cell, Meg, Ang = [], [], []\n",
    "        for C in image:\n",
    "            B, M, A = __cutImageBlocks__(C, BLOCK_SIZE//2, False)\n",
    "            Cell.append(B)\n",
    "            Meg.append(M)\n",
    "            Ang.append(A)\n",
    "        subImages.append(Cell)\n",
    "        Megnitudes.append(Meg)\n",
    "        Angles.append(Ang)\n",
    "    return np.array(subImages), np.array(Megnitudes), np.array(Angles)\n",
    "\n",
    "\n",
    "def imageHOG(Images, Megnitudes, Angles):\n",
    "    \"\"\"\n",
    "    Feature Extraction [i]:Images | [j]:Blocks | [k]:Cells\n",
    "    \"\"\"\n",
    "    DATA_FEATURE = []\n",
    "    for img_idx in range(0, len(Images)):                               # 70K-iteration [i]:Images\n",
    "        BLOCK_FEATURE = []\n",
    "        for block_idx in range(0, len(Images[img_idx])):                # 9-iterations  [j]:Blocks\n",
    "            block_feature = __HOGDescriptor__(Images[img_idx][block_idx], Megnitudes[img_idx][block_idx], Angles[img_idx][block_idx], False)\n",
    "            BLOCK_FEATURE.append(block_feature)\n",
    "        DATA_FEATURE.append(BLOCK_FEATURE)\n",
    "    return np.array(DATA_FEATURE)\n",
    "\n",
    "\n",
    "def imageNormalizor(Features):\n",
    "    \"\"\"\n",
    "    Normalize Feature Vector [0:1]\n",
    "    \"\"\"\n",
    "    DATA_NORM_FEATURE = []\n",
    "    for ftr_idx in range(0, len(Features)):\n",
    "        BLOCK_NORM_FEATURE = []\n",
    "        for block_idx in range(0, len(Features[ftr_idx])):\n",
    "            data_norm_feature = __HOGNormalization__(Features[ftr_idx][block_idx], False)\n",
    "            BLOCK_NORM_FEATURE.append(data_norm_feature)\n",
    "        DATA_NORM_FEATURE.append(BLOCK_NORM_FEATURE)\n",
    "    return np.array(DATA_NORM_FEATURE)\n"
   ]
  },
  {
   "cell_type": "code",
   "execution_count": 24,
   "metadata": {},
   "outputs": [
    {
     "name": "stdout",
     "output_type": "stream",
     "text": [
      "(70000, 28, 28) (70000,)\n",
      "(35000, 28, 28) (35000,)\n"
     ]
    }
   ],
   "source": [
    "# Combine into one Data\n",
    "X = np.concatenate((X_train, X_test))\n",
    "y = np.concatenate((y_train, y_test))\n",
    "print(X.shape, y.shape)\n",
    "X, _, y, _ = train_test_split(X, y, test_size=0.5, random_state=42)\n",
    "print(X.shape, y.shape)"
   ]
  },
  {
   "cell_type": "code",
   "execution_count": 25,
   "metadata": {},
   "outputs": [],
   "source": [
    "data_ratio = imageReshaper(X)\n",
    "data_reshape_32x32 = imagePadder(data_ratio)\n",
    "data_images, data_megnitudes, data_angles = imageSplitter(data_reshape_32x32)\n",
    "data_features = imageHOG(data_images, data_megnitudes, data_angles)\n",
    "data_norm_features = imageNormalizor(data_features)"
   ]
  },
  {
   "cell_type": "code",
   "execution_count": 26,
   "metadata": {},
   "outputs": [
    {
     "data": {
      "text/plain": [
       "(35000, 324)"
      ]
     },
     "execution_count": 26,
     "metadata": {},
     "output_type": "execute_result"
    }
   ],
   "source": [
    "X_Features = data_norm_features.reshape(len(data_norm_features), -1)\n",
    "X_Features.shape"
   ]
  },
  {
   "cell_type": "code",
   "execution_count": 27,
   "metadata": {},
   "outputs": [],
   "source": [
    "X_train, X_test, y_train, y_test = train_test_split(X_Features, y, test_size=0.2, random_state=42)\n",
    "\n",
    "svm_model = svm.SVC(kernel='linear')\n",
    "svm_model.fit(X_train, y_train)\n",
    "\n",
    "train_accuracy = svm_model.score(X_train, y_train)\n",
    "test_accuracy = svm_model.score(X_test, y_test)\n",
    "\n",
    "y_pred = svm_model.predict(X_test)\n",
    "\n",
    "accuracy = accuracy_score(y_test, y_pred)"
   ]
  },
  {
   "cell_type": "code",
   "execution_count": 31,
   "metadata": {},
   "outputs": [
    {
     "data": {
      "image/png": "[encoded data removed]",
      "text/plain": [
       "<Figure size 400x600 with 1 Axes>"
      ]
     },
     "metadata": {},
     "output_type": "display_data"
    }
   ],
   "source": [
    "plt.figure(figsize=(4, 6))\n",
    "plt.bar(['Train Accuracy', 'Test Accuracy'], [train_accuracy, test_accuracy], color=['blue', 'orange'])\n",
    "plt.ylim(0, 1)  # Set y-axis limit to range [0, 1]\n",
    "plt.ylabel('Accuracy')\n",
    "plt.title('Train Accuracy vs. Test Accuracy')\n",
    "for i, v in enumerate([train_accuracy, test_accuracy]):\n",
    "    plt.text(i, v + 0.02, f\"{v * 100:.2f}\", ha='center')\n",
    "plt.show()"
   ]
  },
  {
   "cell_type": "markdown",
   "metadata": {},
   "source": [
    "> ## STEP 7: Built-in HOG"
   ]
  },
  {
   "cell_type": "code",
   "execution_count": 32,
   "metadata": {},
   "outputs": [],
   "source": [
    "from skimage.feature import hog\n",
    "from sklearn import datasets, svm, metrics"
   ]
  },
  {
   "cell_type": "code",
   "execution_count": 33,
   "metadata": {},
   "outputs": [],
   "source": [
    "X_built_train, X_built_test, y_built_train, y_built_test = train_test_split(X, y, test_size=0.2, random_state=42)\n",
    "\n",
    "X_built_train = X_built_train.reshape(-1, 28*28).astype(np.float32) / 255.0\n",
    "X_built_test = X_built_test.reshape(-1, 28*28).astype(np.float32) / 255.0\n",
    "\n",
    "hog_params = {\n",
    "    'orientations': 9,\n",
    "    'pixels_per_cell': (8, 8),\n",
    "    'cells_per_block': (3, 3),\n",
    "    'block_norm': 'L2-Hys',\n",
    "    'transform_sqrt': True,\n",
    "    'feature_vector': True\n",
    "}\n",
    "\n",
    "def extract_hog_features(data):\n",
    "    hog_features = []\n",
    "    for image in data:\n",
    "        hog_feature = hog(image.reshape(28, 28), **hog_params)\n",
    "        hog_features.append(hog_feature)\n",
    "    return np.array(hog_features)\n",
    "\n",
    "x_train_hog = extract_hog_features(X_built_train)\n",
    "x_test_hog = extract_hog_features(X_built_test)"
   ]
  },
  {
   "cell_type": "code",
   "execution_count": 35,
   "metadata": {},
   "outputs": [
    {
     "data": {
      "image/png": "[encoded data removed]",
      "text/plain": [
       "<Figure size 400x600 with 1 Axes>"
      ]
     },
     "metadata": {},
     "output_type": "display_data"
    }
   ],
   "source": [
    "svm_built_model = svm.SVC(kernel='linear')\n",
    "svm_built_model.fit(x_train_hog, y_train)\n",
    "\n",
    "y_train_pred = svm_built_model.predict(x_train_hog)\n",
    "y_test_pred = svm_built_model.predict(x_test_hog)\n",
    "\n",
    "train_build_accuracy = accuracy_score(y_train, y_train_pred)\n",
    "test_build_accuracy = accuracy_score(y_test, y_test_pred)\n",
    "\n",
    "plt.figure(figsize=(4, 6))\n",
    "plt.bar(['Train Accuracy', 'Test Accuracy'], [train_accuracy, test_accuracy], color=['red', 'yellow'])\n",
    "plt.ylim(0, 1)  # Set y-axis limit to range [0, 1]\n",
    "plt.ylabel('Accuracy')\n",
    "plt.title('Train Build-in Accuracy vs. Test Build-in Accuracy')\n",
    "for i, v in enumerate([train_build_accuracy, test_build_accuracy]):\n",
    "    plt.text(i, v + 0.02, f\"{v * 100:.2f}\", ha='center')\n",
    "plt.show()"
   ]
  }
 ],
 "metadata": {
  "kernelspec": {
   "display_name": "Python 3",
   "language": "python",
   "name": "python3"
  },
  "language_info": {
   "codemirror_mode": {
    "name": "ipython",
    "version": 3
   },
   "file_extension": ".py",
   "mimetype": "text/x-python",
   "name": "python",
   "nbconvert_exporter": "python",
   "pygments_lexer": "ipython3",
   "version": "3.10.8"
  }
 },
 "nbformat": 4,
 "nbformat_minor": 2
}
