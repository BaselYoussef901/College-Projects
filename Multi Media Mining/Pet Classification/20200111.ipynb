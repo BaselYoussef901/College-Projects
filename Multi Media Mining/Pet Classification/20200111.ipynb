{
 "cells": [
  {
   "cell_type": "markdown",
   "metadata": {},
   "source": [
    "> # Dependencies"
   ]
  },
  {
   "cell_type": "code",
   "execution_count": 1,
   "metadata": {},
   "outputs": [
    {
     "name": "stdout",
     "output_type": "stream",
     "text": [
      "WARNING:tensorflow:From c:\\Users\\Beso\\AppData\\Local\\Programs\\Python\\Python310\\lib\\site-packages\\tf_keras\\src\\losses.py:2976: The name tf.losses.sparse_softmax_cross_entropy is deprecated. Please use tf.compat.v1.losses.sparse_softmax_cross_entropy instead.\n",
      "\n"
     ]
    }
   ],
   "source": [
    "import os\n",
    "import numpy as np\n",
    "import tensorflow as tf\n",
    "from tensorflow.keras import models, layers, optimizers\n",
    "from tensorflow.keras.applications import VGG16\n",
    "from tensorflow.keras.preprocessing.image import load_img, img_to_array\n",
    "from tensorflow.keras.utils import to_categorical\n",
    "from sklearn.model_selection import train_test_split\n",
    "from tensorflow.keras.preprocessing.image import ImageDataGenerator\n",
    "from matplotlib import pyplot as plt"
   ]
  },
  {
   "cell_type": "markdown",
   "metadata": {},
   "source": [
    "> # Load Data"
   ]
  },
  {
   "cell_type": "code",
   "execution_count": 2,
   "metadata": {},
   "outputs": [],
   "source": [
    "def read_images(data_dir, labeling):\n",
    "    data, label = [], []\n",
    "    for image in (sorted(os.listdir(data_dir))):\n",
    "        image_dir = os.path.join(data_dir, image)\n",
    "        try:\n",
    "            image_file = load_img(image_dir, target_size=(224,224))\n",
    "            image_array = img_to_array(image_file)\n",
    "            data.append(image_array)\n",
    "            label.append(labeling)\n",
    "        except Exception as e:\n",
    "            print(f\"Error loading image: {image_dir}, {e}\")\n",
    "    return np.array(data), np.array(label)"
   ]
  },
  {
   "cell_type": "code",
   "execution_count": 3,
   "metadata": {},
   "outputs": [],
   "source": [
    "cat_path = os.path.join(\"PetImages\\\\Cat\")\n",
    "dog_path = os.path.join(\"PetImages\\\\Dog\")\n",
    "\n",
    "woof_data, woof_label = read_images(dog_path, 1)\n",
    "meow_data, meow_label = read_images(cat_path, 0)\n",
    "\n",
    "X = np.concatenate((woof_data, meow_data), axis=0)\n",
    "y = np.concatenate((woof_label, meow_label), axis=0)\n",
    "\n",
    "num_samples = len(X)\n",
    "indices = np.random.permutation(num_samples)\n",
    "final_data = X[indices]\n",
    "final_labels = y[indices]\n",
    "\n",
    "X_train, X_test, y_train, y_test = train_test_split(X, y, test_size=0.3, random_state=42)"
   ]
  },
  {
   "cell_type": "markdown",
   "metadata": {},
   "source": [
    "> # Apply Model"
   ]
  },
  {
   "cell_type": "code",
   "execution_count": 4,
   "metadata": {},
   "outputs": [
    {
     "name": "stdout",
     "output_type": "stream",
     "text": [
      "WARNING:tensorflow:From c:\\Users\\Beso\\AppData\\Local\\Programs\\Python\\Python310\\lib\\site-packages\\tf_keras\\src\\backend.py:1400: The name tf.executing_eagerly_outside_functions is deprecated. Please use tf.compat.v1.executing_eagerly_outside_functions instead.\n",
      "\n",
      "WARNING:tensorflow:From c:\\Users\\Beso\\AppData\\Local\\Programs\\Python\\Python310\\lib\\site-packages\\tf_keras\\src\\layers\\pooling\\max_pooling2d.py:161: The name tf.nn.max_pool is deprecated. Please use tf.nn.max_pool2d instead.\n",
      "\n"
     ]
    }
   ],
   "source": [
    "VGG = VGG16(weights='imagenet', include_top=False, input_shape=(224, 224, 3))\n",
    "for layer in VGG.layers:\n",
    "    layer.trainable = False\n",
    "\n",
    "avg = layers.GlobalAveragePooling2D()(VGG.output)\n",
    "output = layers.Dense(2, activation=\"softmax\")(avg)\n",
    "model = models.Model(inputs=VGG.input, outputs=output)\n",
    "for layer in VGG.layers:\n",
    "    layer.trainable = False\n",
    "\n",
    "optimizer = tf.keras.optimizers.legacy.SGD(learning_rate=0.2, momentum=0.9, decay=0.01)\n",
    "model.compile(loss=\"sparse_categorical_crossentropy\", optimizer=optimizer, metrics=[\"accuracy\"])"
   ]
  },
  {
   "cell_type": "code",
   "execution_count": 5,
   "metadata": {},
   "outputs": [
    {
     "name": "stdout",
     "output_type": "stream",
     "text": [
      "Epoch 1/5\n",
      "WARNING:tensorflow:From c:\\Users\\Beso\\AppData\\Local\\Programs\\Python\\Python310\\lib\\site-packages\\tensorflow\\python\\autograph\\converters\\directives.py:126: The name tf.ragged.RaggedTensorValue is deprecated. Please use tf.compat.v1.ragged.RaggedTensorValue instead.\n",
      "\n",
      "WARNING:tensorflow:From c:\\Users\\Beso\\AppData\\Local\\Programs\\Python\\Python310\\lib\\site-packages\\tf_keras\\src\\engine\\base_layer_utils.py:384: The name tf.executing_eagerly_outside_functions is deprecated. Please use tf.compat.v1.executing_eagerly_outside_functions instead.\n",
      "\n",
      "88/88 [==============================] - 237s 2s/step - loss: 21.5356 - accuracy: 0.9407\n",
      "Epoch 2/5\n",
      "88/88 [==============================] - 227s 3s/step - loss: 22.6049 - accuracy: 0.9600\n",
      "Epoch 3/5\n",
      "88/88 [==============================] - 230s 3s/step - loss: 6.4546 - accuracy: 0.9800\n",
      "Epoch 4/5\n",
      "88/88 [==============================] - 225s 3s/step - loss: 4.3619 - accuracy: 0.9839\n",
      "Epoch 5/5\n",
      "88/88 [==============================] - 214s 2s/step - loss: 3.4393 - accuracy: 0.9868\n"
     ]
    }
   ],
   "source": [
    "history = model.fit(X_train, y_train, epochs=5, batch_size=32)"
   ]
  },
  {
   "cell_type": "code",
   "execution_count": 8,
   "metadata": {},
   "outputs": [
    {
     "name": "stdout",
     "output_type": "stream",
     "text": [
      "38/38 [==============================] - 87s 2s/step - loss: 17.1842 - accuracy: 0.9692\n"
     ]
    }
   ],
   "source": [
    "for layer in VGG.layers:\n",
    "    layer.trainable = True\n",
    "\n",
    "optimizer = tf.keras.optimizers.legacy.SGD(learning_rate=0.2, momentum=0.9, decay=0.01)\n",
    "model.compile(loss=\"sparse_categorical_crossentropy\", optimizer=optimizer, metrics=[\"accuracy\"])\n",
    "\n",
    "train_acc = history.history['accuracy'][-1]\n",
    "test_loss, test_acc = model.evaluate(X_test, y_test)"
   ]
  },
  {
   "cell_type": "code",
   "execution_count": 9,
   "metadata": {},
   "outputs": [
    {
     "data": {
      "image/png": "[encoded data removed]",
      "text/plain": [
       "<Figure size 400x600 with 1 Axes>"
      ]
     },
     "metadata": {},
     "output_type": "display_data"
    }
   ],
   "source": [
    "plt.figure(figsize=(4, 6))\n",
    "plt.bar(['Train Accuracy', 'Test Accuracy'], [train_acc, test_acc], color=['blue', 'orange'])\n",
    "plt.ylim(0, 1)  # Set y-axis limit to range [0, 1]\n",
    "plt.ylabel('Accuracy')\n",
    "plt.title('Train Accuracy vs. Test Accuracy')\n",
    "for i, v in enumerate([train_acc, test_acc]):\n",
    "    plt.text(i, v + 0.02, f\"{v:.2f}\", ha='center')\n",
    "plt.show()"
   ]
  }
 ],
 "metadata": {
  "kernelspec": {
   "display_name": "Python 3",
   "language": "python",
   "name": "python3"
  },
  "language_info": {
   "codemirror_mode": {
    "name": "ipython",
    "version": 3
   },
   "file_extension": ".py",
   "mimetype": "text/x-python",
   "name": "python",
   "nbconvert_exporter": "python",
   "pygments_lexer": "ipython3",
   "version": "3.10.8"
  }
 },
 "nbformat": 4,
 "nbformat_minor": 2
}
